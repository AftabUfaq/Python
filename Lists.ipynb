{
  "nbformat": 4,
  "nbformat_minor": 0,
  "metadata": {
    "colab": {
      "name": "Lists.ipynb",
      "provenance": [],
      "collapsed_sections": [],
      "authorship_tag": "ABX9TyONf3ZVDooS5kj3nwpkYcxj",
      "include_colab_link": true
    },
    "kernelspec": {
      "name": "python3",
      "display_name": "Python 3"
    }
  },
  "cells": [
    {
      "cell_type": "markdown",
      "metadata": {
        "id": "view-in-github",
        "colab_type": "text"
      },
      "source": [
        "<a href=\"https://colab.research.google.com/github/AftabUfaq/Python/blob/master/Lists.ipynb\" target=\"_parent\"><img src=\"https://colab.research.google.com/assets/colab-badge.svg\" alt=\"Open In Colab\"/></a>"
      ]
    },
    {
      "cell_type": "code",
      "metadata": {
        "id": "9clqy_YN7T6H",
        "colab_type": "code",
        "outputId": "71523b2d-dfb8-47ee-917c-314083177831",
        "colab": {
          "base_uri": "https://localhost:8080/",
          "height": 51
        }
      },
      "source": [
        "print('Hi')\n",
        "print(\"aftab\",\"abid\",\"abbas\", sep=\"....\")\n"
      ],
      "execution_count": 0,
      "outputs": [
        {
          "output_type": "stream",
          "text": [
            "Hi\n",
            "aftab....abid....abbas\n"
          ],
          "name": "stdout"
        }
      ]
    },
    {
      "cell_type": "code",
      "metadata": {
        "id": "Di2gCbSKJhFa",
        "colab_type": "code",
        "outputId": "13e86d9f-cbcb-460b-964c-b42fb721fb85",
        "colab": {
          "base_uri": "https://localhost:8080/",
          "height": 306
        }
      },
      "source": [
        "cities = [\"Swabi\",\"Mardan\", \"peshawar\",  \"Isalambad\", \"rawalpinndi\", \"Lahore\"]\n",
        "# print the list elemetns\n",
        "print(\"Welcome To \" + cities[0])\n",
        "print(\"Welcome To \" + cities[1])\n",
        "print(\"Welcome To \" + cities[2])\n",
        "print(\"Welcome To \" + cities[3])\n",
        "print(\"Welcome To \" + cities[5])\n",
        "\n",
        "\n",
        "# Adding New Elemensts To List \n",
        "cities = cities + [\"karachi\",\"Quetta\"]\n",
        "# adding At a specice Index\n",
        "\n",
        "cities.insert(0, \"Faisalabad\")\n",
        "\n",
        "\n",
        "# prinnt List Elemets seperated by space\n",
        "print(*cities)\n",
        "\n",
        "\n",
        "# print list elements seprate by comma \n",
        "print(*cities,sep = \", \")\n",
        "\n",
        "# print list elements seprate by new line \n",
        "print(*cities,sep = \"\\n\")\n",
        "\n",
        "# remove Form List  by index\n",
        "del cities[0]\n",
        "\n",
        "print(*cities)\n"
      ],
      "execution_count": 0,
      "outputs": [
        {
          "output_type": "stream",
          "text": [
            "Welcome To Swabi\n",
            "Welcome To Mardan\n",
            "Welcome To peshawar\n",
            "Welcome To Isalambad\n",
            "Welcome To Lahore\n",
            "Faisalabad Swabi Mardan peshawar Isalambad rawalpinndi Lahore karachi Quetta\n",
            "Faisalabad, Swabi, Mardan, peshawar, Isalambad, rawalpinndi, Lahore, karachi, Quetta\n",
            "Faisalabad\n",
            "Swabi\n",
            "Mardan\n",
            "peshawar\n",
            "Isalambad\n",
            "rawalpinndi\n",
            "Lahore\n",
            "karachi\n",
            "Quetta\n",
            "Swabi Mardan peshawar Isalambad rawalpinndi Lahore karachi Quetta\n"
          ],
          "name": "stdout"
        }
      ]
    },
    {
      "cell_type": "code",
      "metadata": {
        "id": "AQgYJl6JNzsI",
        "colab_type": "code",
        "outputId": "ae677a5c-0aaf-4b7e-9f5a-949fa944b547",
        "colab": {
          "base_uri": "https://localhost:8080/",
          "height": 51
        }
      },
      "source": [
        "cities = [\"Swabi\",\"Mardan\", \"peshawar\",  \"Isalambad\", \"rawalpinndi\", \"Lahore\"]\n",
        "\n",
        "cities.remove(\"Swabi\")\n",
        "\n",
        "print(*cities)\n",
        "\n",
        "# print the list using join function() \n",
        "print(',, '.join(cities)) "
      ],
      "execution_count": 0,
      "outputs": [
        {
          "output_type": "stream",
          "text": [
            "Mardan peshawar Isalambad rawalpinndi Lahore\n",
            "Mardan,, peshawar,, Isalambad,, rawalpinndi,, Lahore\n"
          ],
          "name": "stdout"
        }
      ]
    },
    {
      "cell_type": "code",
      "metadata": {
        "id": "85GuE1tcO_Lc",
        "colab_type": "code",
        "outputId": "142d7aa4-3cd6-4e36-c00f-cc9df9eaa1ff",
        "colab": {
          "base_uri": "https://localhost:8080/",
          "height": 136
        }
      },
      "source": [
        "\n",
        "# Python program to print list \n",
        "# print the list by converting a list of  \n",
        "# integers to string using map \n",
        "  \n",
        "a = [1, 2, 3, 4, 5] \n",
        "print(' '.join(map(str, a)))  \n",
        "  \n",
        "print(\"in new line\")\n",
        "print('\\n'.join(map(str, a))) "
      ],
      "execution_count": 0,
      "outputs": [
        {
          "output_type": "stream",
          "text": [
            "1 2 3 4 5\n",
            "in new line\n",
            "1\n",
            "2\n",
            "3\n",
            "4\n",
            "5\n"
          ],
          "name": "stdout"
        }
      ]
    },
    {
      "cell_type": "code",
      "metadata": {
        "id": "1eCjsy0QPPlw",
        "colab_type": "code",
        "outputId": "75e87373-e7e5-4678-b428-16f3c8f071e6",
        "colab": {
          "base_uri": "https://localhost:8080/",
          "height": 119
        }
      },
      "source": [
        "# Python program to print list \n",
        "# using for loop \n",
        "a = [\"Swabi\",\"Mardan\", \"peshawar\",  \"Isalambad\", \"rawalpinndi\", \"Lahore\"] \n",
        "  \n",
        "# printing the list using loop \n",
        "for x in range(len(a)): \n",
        "    print (a[x])"
      ],
      "execution_count": 0,
      "outputs": [
        {
          "output_type": "stream",
          "text": [
            "Swabi\n",
            "Mardan\n",
            "peshawar\n",
            "Isalambad\n",
            "rawalpinndi\n",
            "Lahore\n"
          ],
          "name": "stdout"
        }
      ]
    }
  ]
}