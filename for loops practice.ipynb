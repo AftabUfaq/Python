{
  "nbformat": 4,
  "nbformat_minor": 0,
  "metadata": {
    "colab": {
      "name": "loops_for.ipynb",
      "provenance": [],
      "collapsed_sections": [],
      "authorship_tag": "ABX9TyO/utjx3xEuQgHUgtWIns5e",
      "include_colab_link": true
    },
    "kernelspec": {
      "name": "python3",
      "display_name": "Python 3"
    }
  },
  "cells": [
    {
      "cell_type": "markdown",
      "metadata": {
        "id": "view-in-github",
        "colab_type": "text"
      },
      "source": [
        "<a href=\"https://colab.research.google.com/github/AftabUfaq/Python/blob/master/for%20loops%20practice.ipynb\" target=\"_parent\"><img src=\"https://colab.research.google.com/assets/colab-badge.svg\" alt=\"Open In Colab\"/></a>"
      ]
    },
    {
      "cell_type": "code",
      "metadata": {
        "id": "jWwWTJqa9_6N",
        "colab_type": "code",
        "outputId": "13c35c73-5266-4c52-d441-82246e770548",
        "colab": {
          "base_uri": "https://localhost:8080/",
          "height": 34
        }
      },
      "source": [
        "check_cities = \"swabi\"\n",
        "clean_cities = [\"mardan\",\"peshawar\",\"swat\",\"karachi\", \"swabi\"]\n",
        "for cities in clean_cities:\n",
        "  if check_cities == cities:\n",
        "     print(cities)"
      ],
      "execution_count": 0,
      "outputs": [
        {
          "output_type": "stream",
          "text": [
            "swabi\n"
          ],
          "name": "stdout"
        }
      ]
    },
    {
      "cell_type": "code",
      "metadata": {
        "id": "x2XzdU0dEX7M",
        "colab_type": "code",
        "outputId": "58372b29-50d8-46b5-a4c3-a8fe94e35636",
        "colab": {
          "base_uri": "https://localhost:8080/",
          "height": 408
        }
      },
      "source": [
        "# print the alphabit \n",
        "fruits = [\"apple\", \"banana\", \"cherry\"]\n",
        "for x in fruits:\n",
        "  print('\\n')\n",
        "  for y in x:\n",
        "   print(y)\n",
        "  "
      ],
      "execution_count": 0,
      "outputs": [
        {
          "output_type": "stream",
          "text": [
            "\n",
            "\n",
            "a\n",
            "p\n",
            "p\n",
            "l\n",
            "e\n",
            "\n",
            "\n",
            "b\n",
            "a\n",
            "n\n",
            "a\n",
            "n\n",
            "a\n",
            "\n",
            "\n",
            "c\n",
            "h\n",
            "e\n",
            "r\n",
            "r\n",
            "y\n"
          ],
          "name": "stdout"
        }
      ]
    },
    {
      "cell_type": "code",
      "metadata": {
        "id": "Uw0qGkSPFJfo",
        "colab_type": "code",
        "outputId": "64133503-8539-49a6-e2be-f94a2a20491a",
        "colab": {
          "base_uri": "https://localhost:8080/",
          "height": 153
        }
      },
      "source": [
        "fruits = [\"apple\", \"banana\", \"cherry\"]\n",
        "for x in fruits:\n",
        "  print(x)\n",
        "  if x == \"banana\":\n",
        "    break\n",
        "\n",
        "print(\"New Loop \\n \\n\")\n",
        "for x in fruits:\n",
        "  print(x)\n",
        "  if x == \"banana\":\n",
        "    continue\n",
        "    print(\"##########\")\n",
        "\n"
      ],
      "execution_count": 0,
      "outputs": [
        {
          "output_type": "stream",
          "text": [
            "apple\n",
            "banana\n",
            "New Loop \n",
            " \n",
            "\n",
            "apple\n",
            "banana\n",
            "cherry\n"
          ],
          "name": "stdout"
        }
      ]
    },
    {
      "cell_type": "code",
      "metadata": {
        "id": "hf41ccG0FxWT",
        "colab_type": "code",
        "outputId": "eab3bdf7-f55d-4ac2-bb2a-f3096426edf0",
        "colab": {
          "base_uri": "https://localhost:8080/",
          "height": 119
        }
      },
      "source": [
        "for x in range(6):\n",
        "  print(x)\n"
      ],
      "execution_count": 0,
      "outputs": [
        {
          "output_type": "stream",
          "text": [
            "0\n",
            "1\n",
            "2\n",
            "3\n",
            "4\n",
            "5\n"
          ],
          "name": "stdout"
        }
      ]
    },
    {
      "cell_type": "markdown",
      "metadata": {
        "id": "Rnq7eZDOGEob",
        "colab_type": "text"
      },
      "source": [
        "The range() function defaults to increment the sequence by 1, however it is possible to specify the increment value by adding a third parameter: range(2, 30, 3):"
      ]
    },
    {
      "cell_type": "code",
      "metadata": {
        "id": "-cbPgfhZGGmq",
        "colab_type": "code",
        "outputId": "d19a3220-a44b-4abb-ab37-c5175d8dd548",
        "colab": {
          "base_uri": "https://localhost:8080/",
          "height": 187
        }
      },
      "source": [
        "for x in range(2, 30, 3):\n",
        "  print(x)"
      ],
      "execution_count": 0,
      "outputs": [
        {
          "output_type": "stream",
          "text": [
            "2\n",
            "5\n",
            "8\n",
            "11\n",
            "14\n",
            "17\n",
            "20\n",
            "23\n",
            "26\n",
            "29\n"
          ],
          "name": "stdout"
        }
      ]
    },
    {
      "cell_type": "code",
      "metadata": {
        "id": "8STJpdmtGRV1",
        "colab_type": "code",
        "outputId": "e0266fa0-b97f-46ac-d6e5-d68b869be0de",
        "colab": {
          "base_uri": "https://localhost:8080/",
          "height": 153
        }
      },
      "source": [
        "# Star design with for loops\n",
        "#     *\n",
        "#     **\n",
        "#     ***\n",
        "#     ****\n",
        "#     *****\n",
        "#     ******\n",
        "#     *******\n",
        "x = 0\n",
        "for x in range(8):\n",
        "  for y in range(x):\n",
        "    print(\"*\",end=\"\")\n",
        "  print(\"\\n\", end=\"\")"
      ],
      "execution_count": 0,
      "outputs": [
        {
          "output_type": "stream",
          "text": [
            "\n",
            "*\n",
            "**\n",
            "***\n",
            "****\n",
            "*****\n",
            "******\n",
            "*******\n"
          ],
          "name": "stdout"
        }
      ]
    },
    {
      "cell_type": "code",
      "metadata": {
        "id": "hyaHEBsjIDh7",
        "colab_type": "code",
        "colab": {
          "base_uri": "https://localhost:8080/",
          "height": 102
        },
        "outputId": "50cee287-8e30-4f7f-d032-e63e20be3e6d"
      },
      "source": [
        "# Python 3.x code to demonstrate star pattern \n",
        "  \n",
        "# Function to demonstrate printing pattern \n",
        "def pypart(n): \n",
        "    myList = [] \n",
        "    for i in range(1,n+1): \n",
        "        myList.append(\"*\"*i) \n",
        "    print(\"\\n\".join(myList)) \n",
        "  \n",
        "# Driver Code \n",
        "n = 5\n",
        "pypart(n) "
      ],
      "execution_count": 28,
      "outputs": [
        {
          "output_type": "stream",
          "text": [
            "*\n",
            "**\n",
            "***\n",
            "****\n",
            "*****\n"
          ],
          "name": "stdout"
        }
      ]
    },
    {
      "cell_type": "code",
      "metadata": {
        "id": "KcI2GqprUi7z",
        "colab_type": "code",
        "colab": {
          "base_uri": "https://localhost:8080/",
          "height": 102
        },
        "outputId": "42183aed-169f-4b85-c885-513e6e95a2af"
      },
      "source": [
        "# Python 3.x code to demonstrate star pattern \n",
        "  \n",
        "# Function to demonstrate printing pattern \n",
        "def pypart2(n): \n",
        "      \n",
        "    # number of spaces \n",
        "    k = 2*n - 2\n",
        "  \n",
        "    # outer loop to handle number of rows \n",
        "    for i in range(0, n): \n",
        "      \n",
        "        # inner loop to handle number spaces \n",
        "        # values changing acc. to requirement \n",
        "        for j in range(0, k): \n",
        "            print(end=\" \") \n",
        "      \n",
        "        # decrementing k after each loop \n",
        "        k = k - 2\n",
        "      \n",
        "        # inner loop to handle number of columns \n",
        "        # values changing acc. to outer loop \n",
        "        for j in range(0, i+1): \n",
        "          \n",
        "            # printing stars \n",
        "            print(\" *\", end=\"\") \n",
        "      \n",
        "        # ending line after each row \n",
        "        print(\"\\r\") \n",
        "  \n",
        "# Driver Code \n",
        "n = 5\n",
        "pypart2(n) "
      ],
      "execution_count": 32,
      "outputs": [
        {
          "output_type": "stream",
          "text": [
            "         *\r\n",
            "       * *\r\n",
            "     * * *\r\n",
            "   * * * *\r\n",
            " * * * * *\r\n"
          ],
          "name": "stdout"
        }
      ]
    },
    {
      "cell_type": "code",
      "metadata": {
        "id": "rZGYNLL4U53j",
        "colab_type": "code",
        "colab": {
          "base_uri": "https://localhost:8080/",
          "height": 102
        },
        "outputId": "a8643602-8cbf-4276-df49-cbb919bc7b28"
      },
      "source": [
        "\n",
        "# Python 3.x code to demonstrate star pattern \n",
        "  \n",
        "# Function to demonstrate printing pattern triangle \n",
        "def triangle(n): \n",
        "      \n",
        "    # number of spaces \n",
        "    k = 2*n - 2\n",
        "  \n",
        "    # outer loop to handle number of rows \n",
        "    for i in range(0, n): \n",
        "      \n",
        "        # inner loop to handle number spaces \n",
        "        # values changing acc. to requirement \n",
        "        for j in range(0, k): \n",
        "            print(end=\"#\") \n",
        "      \n",
        "        # decrementing k after each loop \n",
        "        k = k - 1\n",
        "      \n",
        "        # inner loop to handle number of columns \n",
        "        # values changing acc. to outer loop \n",
        "        for j in range(0, i+1): \n",
        "          \n",
        "            # printing stars \n",
        "            print(\"* \", end=\"\") \n",
        "      \n",
        "        # ending line after each row \n",
        "        print(\"\\r\") \n",
        "  \n",
        "# Driver Code \n",
        "n = 5\n",
        "triangle(n) "
      ],
      "execution_count": 43,
      "outputs": [
        {
          "output_type": "stream",
          "text": [
            "########* \r\n",
            "#######* * \r\n",
            "######* * * \r\n",
            "#####* * * * \r\n",
            "####* * * * * \r\n"
          ],
          "name": "stdout"
        }
      ]
    },
    {
      "cell_type": "code",
      "metadata": {
        "id": "3pr9LNKKWY01",
        "colab_type": "code",
        "colab": {
          "base_uri": "https://localhost:8080/",
          "height": 102
        },
        "outputId": "3c2e841f-70b0-4b3f-db9a-81051da32ccd"
      },
      "source": [
        "x=0\n",
        "y=5\n",
        "z=0\n",
        "for x in range(y):\n",
        "  for y in range(5,x+1,-1):\n",
        "    print(\" \", end=\"\")\n",
        "  for z in range(x+1):\n",
        "    print(\"*\", end=\"\")\n",
        "  for z in range(x):\n",
        "    print(\"*\", end=\"\")   \n",
        "  print(\"\")"
      ],
      "execution_count": 49,
      "outputs": [
        {
          "output_type": "stream",
          "text": [
            "    *\n",
            "   ***\n",
            "  *****\n",
            " *******\n",
            "*********\n"
          ],
          "name": "stdout"
        }
      ]
    },
    {
      "cell_type": "code",
      "metadata": {
        "id": "UKInm4TiYZok",
        "colab_type": "code",
        "colab": {
          "base_uri": "https://localhost:8080/",
          "height": 102
        },
        "outputId": "5d53742b-342a-4f86-f34c-87e103614c8f"
      },
      "source": [
        "x=0\n",
        "y=5\n",
        "z=0\n",
        "for x in range(y):\n",
        "  for y in range(5,x+1,-1):\n",
        "    print(\" \", end=\"\")\n",
        "  for z in range(x+1):\n",
        "    print(\"*\", end=\"\")  \n",
        "  print(\"\")"
      ],
      "execution_count": 50,
      "outputs": [
        {
          "output_type": "stream",
          "text": [
            "    *\n",
            "   **\n",
            "  ***\n",
            " ****\n",
            "*****\n"
          ],
          "name": "stdout"
        }
      ]
    }
  ]
}