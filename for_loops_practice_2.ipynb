{
  "nbformat": 4,
  "nbformat_minor": 0,
  "metadata": {
    "colab": {
      "name": "for loops practice 2.ipynb",
      "provenance": [],
      "collapsed_sections": [],
      "authorship_tag": "ABX9TyOm+tRyxplstJnBBpgACv3p",
      "include_colab_link": true
    },
    "kernelspec": {
      "name": "python3",
      "display_name": "Python 3"
    }
  },
  "cells": [
    {
      "cell_type": "markdown",
      "metadata": {
        "id": "view-in-github",
        "colab_type": "text"
      },
      "source": [
        "<a href=\"https://colab.research.google.com/github/AftabUfaq/Python/blob/master/for_loops_practice_2.ipynb\" target=\"_parent\"><img src=\"https://colab.research.google.com/assets/colab-badge.svg\" alt=\"Open In Colab\"/></a>"
      ]
    },
    {
      "cell_type": "markdown",
      "metadata": {
        "id": "LdtRMF5ZalsR",
        "colab_type": "text"
      },
      "source": [
        "Write a program to calculate overtime pay of 10 employees.\n",
        "Overtime is paid at the rate of Rs. 12.00 per hour for every\n",
        "hour worked above 40 hours. Assume that employees do not\n",
        "work for fractional part of an hour"
      ]
    },
    {
      "cell_type": "code",
      "metadata": {
        "id": "2tzaveqianjR",
        "colab_type": "code",
        "colab": {
          "base_uri": "https://localhost:8080/",
          "height": 204
        },
        "outputId": "76579f99-570b-4b2d-e6cf-aa2850149a82"
      },
      "source": [
        "emp = []\n",
        "sum = 0\n",
        "print(\"Enter the Overtime OF 10 Employees\")\n",
        "for z in range(9):\n",
        "  x=input(\"Enter number of hours of Overtime of Employee No # \")\n",
        "  emp.append(x)\n",
        "for x in range(9):\n",
        "  k = int(emp[x])\n",
        "  sum = sum + k\n",
        "total_over_time = sum  * 10\n",
        "print(\"The Total Over Time is: \",total_over_time) "
      ],
      "execution_count": 11,
      "outputs": [
        {
          "output_type": "stream",
          "text": [
            "Enter the Overtime OF 10 Employees\n",
            "Enter number of hours of Overtime of Employee No #1\n",
            "Enter number of hours of Overtime of Employee No #2\n",
            "Enter number of hours of Overtime of Employee No #3\n",
            "Enter number of hours of Overtime of Employee No #4\n",
            "Enter number of hours of Overtime of Employee No #5\n",
            "Enter number of hours of Overtime of Employee No #6\n",
            "Enter number of hours of Overtime of Employee No #7\n",
            "Enter number of hours of Overtime of Employee No #8\n",
            "Enter number of hours of Overtime of Employee No #3\n",
            "The Total Over Time is:  390\n"
          ],
          "name": "stdout"
        }
      ]
    },
    {
      "cell_type": "markdown",
      "metadata": {
        "id": "xSE-0vP9ldjW",
        "colab_type": "text"
      },
      "source": [
        ""
      ]
    }
  ]
}